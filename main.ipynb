{
 "cells": [
  {
   "cell_type": "code",
   "execution_count": null,
   "id": "b6fef8ba",
   "metadata": {},
   "outputs": [
    {
     "data": {
      "text/plain": [
       "ChatCompletion(id='chatcmpl-CLlf44UlknvLi0sVgcKBQZckFpgSR', choices=[Choice(finish_reason='stop', index=0, logprobs=None, message=ChatCompletionMessage(content='The capital of Greece is Athens.', refusal=None, role='assistant', annotations=[], audio=None, function_call=None, tool_calls=None)), Choice(finish_reason='stop', index=1, logprobs=None, message=ChatCompletionMessage(content='The capital of Greece is Athens.', refusal=None, role='assistant', annotations=[], audio=None, function_call=None, tool_calls=None)), Choice(finish_reason='stop', index=2, logprobs=None, message=ChatCompletionMessage(content='The capital of Greece is Athens.', refusal=None, role='assistant', annotations=[], audio=None, function_call=None, tool_calls=None)), Choice(finish_reason='stop', index=3, logprobs=None, message=ChatCompletionMessage(content='The capital of Greece is Athens.', refusal=None, role='assistant', annotations=[], audio=None, function_call=None, tool_calls=None)), Choice(finish_reason='stop', index=4, logprobs=None, message=ChatCompletionMessage(content='The capital of Greece is Athens.', refusal=None, role='assistant', annotations=[], audio=None, function_call=None, tool_calls=None)), Choice(finish_reason='stop', index=5, logprobs=None, message=ChatCompletionMessage(content='The capital of Greece is Athens.', refusal=None, role='assistant', annotations=[], audio=None, function_call=None, tool_calls=None)), Choice(finish_reason='stop', index=6, logprobs=None, message=ChatCompletionMessage(content='The capital of Greece is Athens.', refusal=None, role='assistant', annotations=[], audio=None, function_call=None, tool_calls=None)), Choice(finish_reason='stop', index=7, logprobs=None, message=ChatCompletionMessage(content='The capital of Greece is Athens.', refusal=None, role='assistant', annotations=[], audio=None, function_call=None, tool_calls=None)), Choice(finish_reason='stop', index=8, logprobs=None, message=ChatCompletionMessage(content='The capital of Greece is Athens.', refusal=None, role='assistant', annotations=[], audio=None, function_call=None, tool_calls=None)), Choice(finish_reason='stop', index=9, logprobs=None, message=ChatCompletionMessage(content='The capital of Greece is Athens.', refusal=None, role='assistant', annotations=[], audio=None, function_call=None, tool_calls=None))], created=1759304134, model='gpt-4o-mini-2024-07-18', object='chat.completion', service_tier='default', system_fingerprint='fp_560af6e559', usage=CompletionUsage(completion_tokens=70, prompt_tokens=14, total_tokens=84, completion_tokens_details=CompletionTokensDetails(accepted_prediction_tokens=0, audio_tokens=0, reasoning_tokens=0, rejected_prediction_tokens=0), prompt_tokens_details=PromptTokensDetails(audio_tokens=0, cached_tokens=0)))"
      ]
     },
     "execution_count": 2,
     "metadata": {},
     "output_type": "execute_result"
    }
   ],
   "source": [
    "import openai\n",
    "\n",
    "client = openai.OpenAI()\n",
    "\n",
    "response = client.chat.completions.create(\n",
    "    model=\"gpt-4o-mini\",\n",
    "    n=10,\n",
    "    messages=[\n",
    "        {\"role\": \"user\",\n",
    "        \"content\": \"What is the capital of the Greece\"},\n",
    "    ],\n",
    ")\n",
    "\n",
    "response"
   ]
  },
  {
   "cell_type": "code",
   "execution_count": null,
   "id": "63d1577b",
   "metadata": {},
   "outputs": [
    {
     "data": {
      "text/plain": [
       "'The capital of Greece is Athens.'"
      ]
     },
     "execution_count": 5,
     "metadata": {},
     "output_type": "execute_result"
    }
   ],
   "source": [
    "message = response.choices[0].message.content\n",
    "\n",
    "message"
   ]
  },
  {
   "cell_type": "code",
   "execution_count": null,
   "id": "fe410809",
   "metadata": {},
   "outputs": [
    {
     "name": "stdout",
     "output_type": "stream",
     "text": [
      "Choice(finish_reason='stop', index=0, logprobs=None, message=ChatCompletionMessage(content='The capital of Greece is Athens.', refusal=None, role='assistant', annotations=[], audio=None, function_call=None, tool_calls=None))\n",
      "Choice(finish_reason='stop', index=1, logprobs=None, message=ChatCompletionMessage(content='The capital of Greece is Athens.', refusal=None, role='assistant', annotations=[], audio=None, function_call=None, tool_calls=None))\n",
      "Choice(finish_reason='stop', index=2, logprobs=None, message=ChatCompletionMessage(content='The capital of Greece is Athens.', refusal=None, role='assistant', annotations=[], audio=None, function_call=None, tool_calls=None))\n",
      "Choice(finish_reason='stop', index=3, logprobs=None, message=ChatCompletionMessage(content='The capital of Greece is Athens.', refusal=None, role='assistant', annotations=[], audio=None, function_call=None, tool_calls=None))\n",
      "Choice(finish_reason='stop', index=4, logprobs=None, message=ChatCompletionMessage(content='The capital of Greece is Athens.', refusal=None, role='assistant', annotations=[], audio=None, function_call=None, tool_calls=None))\n",
      "Choice(finish_reason='stop', index=5, logprobs=None, message=ChatCompletionMessage(content='The capital of Greece is Athens.', refusal=None, role='assistant', annotations=[], audio=None, function_call=None, tool_calls=None))\n",
      "Choice(finish_reason='stop', index=6, logprobs=None, message=ChatCompletionMessage(content='The capital of Greece is Athens.', refusal=None, role='assistant', annotations=[], audio=None, function_call=None, tool_calls=None))\n",
      "Choice(finish_reason='stop', index=7, logprobs=None, message=ChatCompletionMessage(content='The capital of Greece is Athens.', refusal=None, role='assistant', annotations=[], audio=None, function_call=None, tool_calls=None))\n",
      "Choice(finish_reason='stop', index=8, logprobs=None, message=ChatCompletionMessage(content='The capital of Greece is Athens.', refusal=None, role='assistant', annotations=[], audio=None, function_call=None, tool_calls=None))\n",
      "Choice(finish_reason='stop', index=9, logprobs=None, message=ChatCompletionMessage(content='The capital of Greece is Athens.', refusal=None, role='assistant', annotations=[], audio=None, function_call=None, tool_calls=None))\n"
     ]
    }
   ],
   "source": [
    "for choice in response.choices:\n",
    "    print(choice)\n"
   ]
  }
 ],
 "metadata": {
  "kernelspec": {
   "display_name": ".venv",
   "language": "python",
   "name": "python3"
  },
  "language_info": {
   "codemirror_mode": {
    "name": "ipython",
    "version": 3
   },
   "file_extension": ".py",
   "mimetype": "text/x-python",
   "name": "python",
   "nbconvert_exporter": "python",
   "pygments_lexer": "ipython3",
   "version": "3.13.5"
  }
 },
 "nbformat": 4,
 "nbformat_minor": 5
}
